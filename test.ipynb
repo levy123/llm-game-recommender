{
 "cells": [
  {
   "cell_type": "code",
   "execution_count": 1,
   "id": "a8949bc2",
   "metadata": {},
   "outputs": [],
   "source": [
    "from openai import OpenAI\n",
    "import json, os"
   ]
  },
  {
   "cell_type": "code",
   "execution_count": 2,
   "id": "dc4d9a26",
   "metadata": {},
   "outputs": [],
   "source": [
    "sample_schema = {\n",
    "  \"title\": \"Jungle Riches\",\n",
    "  \"theme\": \"Jungle/Adventure\",\n",
    "  \"volatility\": \"High\",\n",
    "  \"features\": [\"Free Spins\", \"Wild Symbols\", \"Multiplier\"],\n",
    "  \"reels\": 5,\n",
    "  \"art_style\": \"Cartoonish\",\n",
    "  \"soundtrack_style\": \"Tribal Drums\",\n",
    "  \"payout_percentage\": 96.5,\n",
    "  \"minimum_bet_gbp\": 0.4,\n",
    "  \"playlines\": 20,\n",
    "  \"max_win_multiplier\": 972,\n",
    "\n",
    "}"
   ]
  },
  {
   "cell_type": "code",
   "execution_count": 6,
   "id": "c6120368",
   "metadata": {},
   "outputs": [],
   "source": [
    "client = OpenAI(api_key=os.getenv(\"OPENAI_API_KEY\"))"
   ]
  },
  {
   "cell_type": "code",
   "execution_count": null,
   "id": "19fbbc72",
   "metadata": {},
   "outputs": [],
   "source": [
    "prompt = f\"Generate a JSON array of 100 fictional casino slot games following this schema: {sample_schema}\""
   ]
  },
  {
   "cell_type": "code",
   "execution_count": null,
   "id": "6ea791f9",
   "metadata": {},
   "outputs": [],
   "source": [
    "response = client.chat.completions.create(\n",
    "    model = \"gpt-4o-mini\",\n",
    "    message = [{\"role\": \"user\", \"content\": prompt}],\n",
    "    temperature=0.7,\n",
    "    response_format={\"type\": \"json_object\"}\n",
    ")\n"
   ]
  },
  {
   "cell_type": "code",
   "execution_count": null,
   "id": "81c87c73",
   "metadata": {},
   "outputs": [],
   "source": [
    "with open(\"games.json\", \"w\") as f:\n",
    "    json.dump(json.loads(response.choices[0].messages.content), f, indent=2)\n"
   ]
  }
 ],
 "metadata": {
  "kernelspec": {
   "display_name": ".venv",
   "language": "python",
   "name": "python3"
  },
  "language_info": {
   "codemirror_mode": {
    "name": "ipython",
    "version": 3
   },
   "file_extension": ".py",
   "mimetype": "text/x-python",
   "name": "python",
   "nbconvert_exporter": "python",
   "pygments_lexer": "ipython3",
   "version": "3.11.9"
  }
 },
 "nbformat": 4,
 "nbformat_minor": 5
}
